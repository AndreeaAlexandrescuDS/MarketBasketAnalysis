{
 "cells": [
  {
   "cell_type": "markdown",
   "metadata": {},
   "source": [
    "### Setup"
   ]
  },
  {
   "cell_type": "code",
   "execution_count": null,
   "metadata": {},
   "outputs": [],
   "source": [
    "import pyspark\n",
    "from pyspark.sql import SparkSession\n",
    "import pyspark.sql.functions as F\n",
    "\n",
    "from pyspark.ml.fpm import FPGrowth"
   ]
  },
  {
   "cell_type": "code",
   "execution_count": null,
   "metadata": {},
   "outputs": [],
   "source": [
    "pyspark.__version__"
   ]
  },
  {
   "cell_type": "code",
   "execution_count": null,
   "metadata": {},
   "outputs": [],
   "source": [
    "spark = SparkSession \\\n",
    "    .builder \\\n",
    "    .master('local[*]') \\\n",
    "    .config('spark.executor.memory', '4g') \\\n",
    "    .config('spark.driver.memory', '10g') \\\n",
    "    .config('mapreduce.fileoutputcommitter.algorithm.version', '2') \\\n",
    "    .config('spark.sql.execution.arrow.enabled', 'true') \\\n",
    "    .appName('Spark-apriori') \\\n",
    "    .getOrCreate()"
   ]
  },
  {
   "cell_type": "code",
   "execution_count": null,
   "metadata": {},
   "outputs": [],
   "source": [
    "spark"
   ]
  },
  {
   "cell_type": "markdown",
   "metadata": {},
   "source": [
    "### Read data"
   ]
  },
  {
   "cell_type": "code",
   "execution_count": null,
   "metadata": {},
   "outputs": [],
   "source": [
    "orders = spark.read.json('gs://[...]//[...]/orders/')"
   ]
  },
  {
   "cell_type": "code",
   "execution_count": null,
   "metadata": {},
   "outputs": [],
   "source": [
    "orders.printSchema()"
   ]
  },
  {
   "cell_type": "code",
   "execution_count": null,
   "metadata": {},
   "outputs": [],
   "source": [
    "orders_clean = orders\\\n",
    "              .select(F.col('order_id'), F.col('category_id'))\\\n",
    "              .filter((F.col(\"category_id\")!=0) & (F.col('category_id')!=200) & (F.col(\"category_id\").isNotNull())\\\n",
    "                      & (F.col('order_id').isNotNull()) & (F.col('order_id')!=0)\\\n",
    "                      & (F.col(\"customers_id\").isNotNull()) & (F.col(\"customers_id\")!=0))  \n",
    "orders_clean.show(5)\n",
    "\n",
    "### when running the association rules at customer_id level, run the code below ### \n",
    "# orders_clean = orders\\\n",
    "#               .select(F.col('customers_id'), F.col('category_id'))\\\n",
    "#               .filter((F.col(\"category_id\")!=0) & (F.col('category_id')!=200) & (F.col(\"category_id\").isNotNull())\\\n",
    "#                       & (F.col('order_id').isNotNull()) & (F.col('order_id')!=0)\\\n",
    "#                       & (F.col(\"customers_id\").isNotNull()) & (F.col(\"customers_id\")!=0))\n",
    "\n",
    "# orders_clean.show(5)"
   ]
  },
  {
   "cell_type": "code",
   "execution_count": null,
   "metadata": {},
   "outputs": [],
   "source": [
    "orders_nodups = orders_clean.drop_duplicates()\n",
    "orders_nodups.cache()\n",
    "orders_nodups.count()"
   ]
  },
  {
   "cell_type": "markdown",
   "metadata": {},
   "source": [
    "### Create transactions data"
   ]
  },
  {
   "cell_type": "code",
   "execution_count": null,
   "metadata": {},
   "outputs": [],
   "source": [
    "transactions = orders_nodups.groupBy('order_id')\\\n",
    "                            .agg(F.collect_list('category_id').alias('categories_agg'))      \n",
    "\n",
    "### when running the association rules at customer_id level, run the code below ### \n",
    "# transactions = orders_nodups.groupBy('customers_id')\\\n",
    "#                             .agg(F.collect_list('category_id').alias('categories_agg')) \n",
    "\n",
    "transactions.cache()\n",
    "transactions.count()"
   ]
  },
  {
   "cell_type": "markdown",
   "metadata": {},
   "source": [
    "### Association rules"
   ]
  },
  {
   "cell_type": "code",
   "execution_count": null,
   "metadata": {},
   "outputs": [],
   "source": [
    "### frequent itemsets\n",
    "\n",
    "categoriesMinSupport=0.000002\n",
    "\n",
    "fpGrowth = FPGrowth(minSupport=categoriesMinSupport, \n",
    "                    minConfidence=0.00001,\n",
    "                    itemsCol=\"categories_agg\")\n",
    "\n",
    "model = fpGrowth.fit(transactions)\n",
    "freqItemsets = model.freqItemsets\n",
    "freqItemsets.show(5)"
   ]
  },
  {
   "cell_type": "code",
   "execution_count": null,
   "metadata": {},
   "outputs": [],
   "source": [
    "### generated association rules\n",
    "\n",
    "rules = model.associationRules\n",
    "rules.show(5)"
   ]
  },
  {
   "cell_type": "code",
   "execution_count": null,
   "metadata": {},
   "outputs": [],
   "source": [
    "rules.cache()\n",
    "rules.count()"
   ]
  },
  {
   "cell_type": "markdown",
   "metadata": {},
   "source": [
    "### Write results to GCS"
   ]
  },
  {
   "cell_type": "code",
   "execution_count": null,
   "metadata": {},
   "outputs": [],
   "source": [
    "### write association rules\n",
    "outputFolder = \"gs://[...]//[...]/\"\n",
    "filename = outputFolder + \"associationRules_orders\"\n",
    "\n",
    "rules\\\n",
    "  .coalesce(18)\\\n",
    "  .write.format('json')\\\n",
    "  .option(\"compression\", \"org.apache.hadoop.io.compress.GzipCodec\")\\\n",
    "  .mode(\"overwrite\")\\\n",
    "  .option(\"header\", \"true\")\\\n",
    "  .save(filename)"
   ]
  }
 ],
 "metadata": {
  "kernelspec": {
   "display_name": "Python 3",
   "language": "python",
   "name": "python3"
  },
  "language_info": {
   "codemirror_mode": {
    "name": "ipython",
    "version": 3
   },
   "file_extension": ".py",
   "mimetype": "text/x-python",
   "name": "python",
   "nbconvert_exporter": "python",
   "pygments_lexer": "ipython3",
   "version": "3.7.4"
  }
 },
 "nbformat": 4,
 "nbformat_minor": 2
}
